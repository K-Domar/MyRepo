{
  "nbformat": 4,
  "nbformat_minor": 0,
  "metadata": {
    "colab": {
      "name": "Kopia notatnika Untitled1.ipynb",
      "provenance": [],
      "collapsed_sections": [],
      "authorship_tag": "ABX9TyOqxkeb98TAadffFEbelLLZ",
      "include_colab_link": true
    },
    "kernelspec": {
      "name": "python3",
      "display_name": "Python 3"
    }
  },
  "cells": [
    {
      "cell_type": "markdown",
      "metadata": {
        "id": "view-in-github",
        "colab_type": "text"
      },
      "source": [
        "<a href=\"https://colab.research.google.com/github/K-Domar/MyRepo/blob/main/Homework_2_PESEL.ipynb\" target=\"_parent\"><img src=\"https://colab.research.google.com/assets/colab-badge.svg\" alt=\"Open In Colab\"/></a>"
      ]
    },
    {
      "cell_type": "code",
      "metadata": {
        "id": "ncHnvT8jx9ox"
      },
      "source": [
        "import numpy as np\n",
        "import matplotlib.pyplot as plt"
      ],
      "execution_count": 1,
      "outputs": []
    },
    {
      "cell_type": "code",
      "metadata": {
        "id": "NE00HxFqB-zX",
        "outputId": "1d29b70e-4e52-4f38-d70c-4c7b0b9252de",
        "colab": {
          "base_uri": "https://localhost:8080/"
        }
      },
      "source": [
        "n = 38000000\n",
        "year = np.random.randint(00, 100, size=n)\n",
        "month = np.zeros(shape=n, dtype=int)\n",
        "day = np.zeros(shape=n, dtype=int)\n",
        "\n",
        "month1 = np.random.randint(1, 13, size=n)\n",
        "month2 = np.random.randint(21, 33, size=n)\n",
        "x = np.random.randint(0, 2, size=n)\n",
        "month[x == 0] = month1[x == 0]\n",
        "month[x == 1] = month2[x == 1]\n",
        "\n",
        "day1 = np.random.randint(low=1, high=31, size=n)\n",
        "day2 = np.random.randint(low=1, high=32, size=n)\n",
        "day3 = np.random.randint(low=1, high=29, size=n)\n",
        "day4 = np.random.randint(low=1, high=30, size=n)\n",
        "feb1 = np.logical_and(year % 4 == 0, month == 2)\n",
        "feb2 = np.logical_and(year % 4 == 0, month == 22)\n",
        "feb = np.logical_or(feb1 == True, feb2 == True)\n",
        "day[feb == True] = day4[feb == True]\n",
        "lut1 = np.logical_and(year % 4 != 0, month == 2)\n",
        "lut2 = np.logical_and(year % 4 != 0, month == 22)\n",
        "lut = np.logical_or(lut1 == True, lut2 == True)\n",
        "day[lut == True] = day3[lut == True]\n",
        "day[month == 1] = day2[month == 1]\n",
        "day[month == 21] = day2[month == 21]\n",
        "day[month == 3] = day2[month == 3]\n",
        "day[month == 23] = day2[month == 23]\n",
        "day[month == 5] = day2[month == 5]\n",
        "day[month == 25] = day2[month == 25]\n",
        "day[month == 7] = day2[month == 7]\n",
        "day[month == 27] = day2[month ==27]\n",
        "day[month == 8] = day2[month == 8]\n",
        "day[month == 28] = day2[month == 28]\n",
        "day[month == 10] = day2[month == 10]\n",
        "day[month == 30] = day2[month == 30]\n",
        "day[month == 12] = day2[month == 12]\n",
        "day[month == 32] = day2[month == 32]\n",
        "day[month == 4] = day1[month == 4]\n",
        "day[month == 24] = day1[month == 24]\n",
        "day[month == 6] = day1[month == 6]\n",
        "day[month == 26] = day1[month == 26]\n",
        "day[month == 9] = day1[month == 9]\n",
        "day[month == 29] = day1[month ==29]\n",
        "day[month == 11] = day1[month == 11]\n",
        "day[month == 31] = day1[month == 31]\n",
        "\n",
        "\n",
        "ser_1 = np.random.randint(0, 10, size=n)\n",
        "ser_2 = np.random.randint(0, 10, size=n)\n",
        "ser_3 = np.random.randint(0, 10, size=n)\n",
        "sex = np.random.randint(0, 10, size=n)\n",
        "\n",
        "\n",
        "# checksum\n",
        "control = (year//10) + 3*(year%10)\n",
        "control += 7*(month//10) + 9*(month%10)\n",
        "control += (day//10) + 3*(day%10)\n",
        "control += 7*(ser_1//10) + 9*(ser_1%10)\n",
        "control += (ser_2//10) + 3*(ser_2%10)\n",
        "control += 7*(ser_3//10) + 9*(ser_3%10)\n",
        "control += (sex//10) + 3*(sex%10)\n",
        "\n",
        "control = (10 - (control % 10)) % 10\n",
        "\n",
        "%time pesel_db = 1000000000*year + 10000000*month + 100000*day + 10000*ser_1 + 1000*ser_2 + 100*ser_3 + 10 * sex + control"
      ],
      "execution_count": 2,
      "outputs": [
        {
          "output_type": "stream",
          "text": [
            "CPU times: user 834 ms, sys: 0 ns, total: 834 ms\n",
            "Wall time: 835 ms\n"
          ],
          "name": "stdout"
        }
      ]
    },
    {
      "cell_type": "code",
      "metadata": {
        "id": "R3pP5PFJIMqb"
      },
      "source": [
        "# vibration for all PESEL numbers\n",
        "z = 0\n",
        "suma = np.zeros(shape=10000000, dtype=int)\n",
        "while z < 10000000 :\n",
        "  fint = int(pesel_db[z])\n",
        "  fstr = str(fint)\n",
        "  il = len(fstr)\n",
        "  sum = 0\n",
        "  while il > 0 :\n",
        "    sum = sum + int(fstr[il-1])\n",
        "    il = il - 1\n",
        "  if len(str(sum)) > 1 :\n",
        "    sum = int(str(sum)[0]) + int(str(sum)[1])\n",
        "  if len(str(sum)) > 1 :\n",
        "    sum = int(str(sum)[0]) + int(str(sum)[1])\n",
        "  suma[z] = sum\n",
        "  z = z + 1"
      ],
      "execution_count": 3,
      "outputs": []
    },
    {
      "cell_type": "code",
      "metadata": {
        "id": "nWXKfhd-YA0v",
        "outputId": "5b663035-2f9f-4254-abad-8a784f543ba9",
        "colab": {
          "base_uri": "https://localhost:8080/",
          "height": 295
        }
      },
      "source": [
        "# number of people in a decade\n",
        "people = np.zeros(shape=n, dtype=int)\n",
        "\n",
        "lata_00 = np.logical_and(year >= 00, year < 10)\n",
        "people_00 = np.logical_and(lata_00 == True, month < 20)\n",
        "people[people_00 == True] = 1900\n",
        "\n",
        "lata_10 = np.logical_and(year >= 10, year < 20)\n",
        "people_10 = np.logical_and(lata_10 == True, month < 20)\n",
        "people[people_10 == True] = 1910\n",
        "\n",
        "lata_20 = np.logical_and(year >= 20, year < 30)\n",
        "people_20 = np.logical_and(lata_20 == True, month < 20)\n",
        "people[people_20 == True] = 1920\n",
        "\n",
        "lata_30 = np.logical_and(year >= 30, year < 40)\n",
        "people_30 = np.logical_and(lata_30 == True, month < 20)\n",
        "people[people_30 == True] = 1930\n",
        "\n",
        "lata_40 = np.logical_and(year >= 40, year < 50)\n",
        "people_40 = np.logical_and(lata_40 == True, month < 20)\n",
        "people[people_40 == True] = 1940\n",
        "\n",
        "lata_50 = np.logical_and(year >= 50, year < 60)\n",
        "people_50 = np.logical_and(lata_50 == True, month < 20)\n",
        "people[people_50 == True] = 1950\n",
        "\n",
        "lata_60 = np.logical_and(year >= 60, year < 70)\n",
        "people_60 = np.logical_and(lata_60 == True, month < 20)\n",
        "people[people_60 == True] = 1960\n",
        "\n",
        "lata_70 = np.logical_and(year >= 70, year < 80)\n",
        "people_70 = np.logical_and(lata_70 == True, month < 20)\n",
        "people[people_70 == True] = 1970\n",
        "\n",
        "lata_80 = np.logical_and(year >= 80, year < 90)\n",
        "people_80 = np.logical_and(lata_80 == True, month < 20)\n",
        "people[people_80 == True] = 1980\n",
        "\n",
        "people_90 = np.logical_and(year >= 90, month < 20)\n",
        "people[people_90 == True] = 1990\n",
        "\n",
        "lata_100 = np.logical_and(year >= 00, year < 10)\n",
        "people_100 = np.logical_and(lata_100 == True, month > 20)\n",
        "people[people_100 == True] = 2000\n",
        "\n",
        "lata_110 = np.logical_and(year >= 10, year < 20)\n",
        "people_110 = np.logical_and(lata_110 == True, month > 20)\n",
        "people[people_110 == True] = 2010\n",
        "\n",
        "lata_120 = np.logical_and(year >= 20, year < 30)\n",
        "people_120 = np.logical_and(lata_120 == True, month > 20)\n",
        "people[people_120 == True] = 2020\n",
        "\n",
        "lata_130 = np.logical_and(year >= 30, year < 40)\n",
        "people_130 = np.logical_and(lata_130 == True, month > 20)\n",
        "people[people_130 == True] = 2030\n",
        "\n",
        "lata_140 = np.logical_and(year >= 40, year < 50)\n",
        "people_140 = np.logical_and(lata_140 == True, month > 20)\n",
        "people[people_140 == True] = 2040\n",
        "\n",
        "lata_150 = np.logical_and(year >= 50, year < 60)\n",
        "people_150 = np.logical_and(lata_150 == True, month > 20)\n",
        "people[people_150 == True] = 2050\n",
        "\n",
        "lata_160 = np.logical_and(year >= 60, year < 70)\n",
        "people_160 = np.logical_and(lata_160 == True, month > 20)\n",
        "people[people_160 == True] = 2060\n",
        "\n",
        "lata_170 = np.logical_and(year >= 70, year < 80)\n",
        "people_170 = np.logical_and(lata_170 == True, month > 20)\n",
        "people[people_170 == True] = 2070\n",
        "\n",
        "lata_180 = np.logical_and(year >= 80, year < 90)\n",
        "people_180 = np.logical_and(lata_180 == True, month > 20)\n",
        "people[people_180 == True] = 2080\n",
        "\n",
        "people_190 = np.logical_and(year >= 90, month > 20)\n",
        "people[people_190 == True] = 2090\n",
        "bin_edges = [1900, 1910, 1920, 1930, 1940, 1950, 1960, 1970, 1980, 1990, 2000, 2010, 2020, 2030, 2040, 2050, 2060, 2070, 2080, 2090, 2100]\n",
        "plt.hist(people, bins=bin_edges, log=True, align='mid', edgecolor='k')\n",
        "\n",
        "plt.xlabel('Years')\n",
        "plt.xticks([1900,1950,2000, 2100])\n",
        "plt.ylabel('Amount of people')\n",
        "plt.title('Histogram of births')\n",
        "\n",
        "plt.show()"
      ],
      "execution_count": 6,
      "outputs": [
        {
          "output_type": "display_data",
          "data": {
            "image/png": "[encoded data removed]",
            "text/plain": [
              "<Figure size 432x288 with 1 Axes>"
            ]
          },
          "metadata": {
            "tags": [],
            "needs_background": "light"
          }
        }
      ]
    }
  ]
}