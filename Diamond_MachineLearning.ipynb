{
  "nbformat": 4,
  "nbformat_minor": 0,
  "metadata": {
    "colab": {
      "name": "Untitled1.ipynb",
      "provenance": [],
      "authorship_tag": "ABX9TyMTymku9F3d6Cwf40WNZbiB",
      "include_colab_link": true
    },
    "kernelspec": {
      "name": "python3",
      "display_name": "Python 3"
    }
  },
  "cells": [
    {
      "cell_type": "markdown",
      "metadata": {
        "id": "view-in-github",
        "colab_type": "text"
      },
      "source": [
        "<a href=\"https://colab.research.google.com/github/K-Domar/MyRepo/blob/main/Diamond_MachineLearning.ipynb\" target=\"_parent\"><img src=\"https://colab.research.google.com/assets/colab-badge.svg\" alt=\"Open In Colab\"/></a>"
      ]
    },
    {
      "cell_type": "code",
      "metadata": {
        "id": "FVX_nSdjs0GQ"
      },
      "source": [
        "import pandas as pd\r\n",
        "import numpy as np\r\n",
        "import matplotlib.pyplot as plt\r\n",
        "\r\n",
        "from sklearn.ensemble import RandomForestRegressor\r\n",
        "from sklearn.linear_model import LinearRegression\r\n",
        "from sklearn.linear_model import Lasso\r\n",
        "from sklearn.metrics import mean_squared_error as MSE\r\n",
        "from sklearn.model_selection import KFold\r\n",
        "from sklearn.model_selection import StratifiedKFold\r\n",
        "from sklearn.model_selection import cross_val_score\r\n",
        "from sklearn.model_selection import train_test_split\r\n",
        "\r\n",
        "import keras\r\n",
        "from keras.layers import Dense\r\n",
        "from keras.models import Sequential"
      ],
      "execution_count": 151,
      "outputs": []
    },
    {
      "cell_type": "markdown",
      "metadata": {
        "id": "P4k6jcniALsd"
      },
      "source": [
        "**Describe colums in dataset**\r\n",
        "\r\n",
        "*price* - price in US dollars (\\$326--\\$18,823)\r\n",
        "\r\n",
        "*carat* - weight of the diamond (0.2--5.01)\r\n",
        "\r\n",
        "*cut* - quality of the cut (Fair, Good, Very Good, Premium, Ideal)\r\n",
        "\r\n",
        "*color* - diamond colour, from J (worst) to D (best)\r\n",
        "\r\n",
        "*clarity* -  a measurement of how clear the diamond is (I1 (worst), SI2, SI1, VS2, VS1, VVS2, VVS1, IF (best))\r\n",
        "\r\n",
        "*x* - length in mm (0--10.74)\r\n",
        "\r\n",
        "*y* - width in mm (0--58.9)\r\n",
        "\r\n",
        "*z* - depth in mm (0--31.8)\r\n",
        "\r\n",
        "*depth* - total depth percentage = z / mean(x, y) = 2 * z / (x + y) (43--79)\r\n",
        "\r\n",
        "*table* - width of top of diamond relative to widest point (43--95)"
      ]
    },
    {
      "cell_type": "code",
      "metadata": {
        "id": "j1ib-taDs3Lg",
        "colab": {
          "base_uri": "https://localhost:8080/",
          "height": 343
        },
        "outputId": "8f9f21a2-ae98-41bf-cb9e-9af31412d541"
      },
      "source": [
        "diamond = pd.read_csv('https://raw.githubusercontent.com/K-Domar/MyRepo/main/diamonds.csv')\r\n",
        "diamond = diamond.loc[:,~diamond.columns.str.match(\"Unnamed\")]\r\n",
        "diamond.head(10)"
      ],
      "execution_count": 138,
      "outputs": [
        {
          "output_type": "execute_result",
          "data": {
            "text/html": [
              "<div>\n",
              "<style scoped>\n",
              "    .dataframe tbody tr th:only-of-type {\n",
              "        vertical-align: middle;\n",
              "    }\n",
              "\n",
              "    .dataframe tbody tr th {\n",
              "        vertical-align: top;\n",
              "    }\n",
              "\n",
              "    .dataframe thead th {\n",
              "        text-align: right;\n",
              "    }\n",
              "</style>\n",
              "<table border=\"1\" class=\"dataframe\">\n",
              "  <thead>\n",
              "    <tr style=\"text-align: right;\">\n",
              "      <th></th>\n",
              "      <th>carat</th>\n",
              "      <th>cut</th>\n",
              "      <th>color</th>\n",
              "      <th>clarity</th>\n",
              "      <th>depth</th>\n",
              "      <th>table</th>\n",
              "      <th>price</th>\n",
              "      <th>x</th>\n",
              "      <th>y</th>\n",
              "      <th>z</th>\n",
              "    </tr>\n",
              "  </thead>\n",
              "  <tbody>\n",
              "    <tr>\n",
              "      <th>0</th>\n",
              "      <td>0.23</td>\n",
              "      <td>Ideal</td>\n",
              "      <td>E</td>\n",
              "      <td>SI2</td>\n",
              "      <td>61.5</td>\n",
              "      <td>55.0</td>\n",
              "      <td>326</td>\n",
              "      <td>3.95</td>\n",
              "      <td>3.98</td>\n",
              "      <td>2.43</td>\n",
              "    </tr>\n",
              "    <tr>\n",
              "      <th>1</th>\n",
              "      <td>0.21</td>\n",
              "      <td>Premium</td>\n",
              "      <td>E</td>\n",
              "      <td>SI1</td>\n",
              "      <td>59.8</td>\n",
              "      <td>61.0</td>\n",
              "      <td>326</td>\n",
              "      <td>3.89</td>\n",
              "      <td>3.84</td>\n",
              "      <td>2.31</td>\n",
              "    </tr>\n",
              "    <tr>\n",
              "      <th>2</th>\n",
              "      <td>0.23</td>\n",
              "      <td>Good</td>\n",
              "      <td>E</td>\n",
              "      <td>VS1</td>\n",
              "      <td>56.9</td>\n",
              "      <td>65.0</td>\n",
              "      <td>327</td>\n",
              "      <td>4.05</td>\n",
              "      <td>4.07</td>\n",
              "      <td>2.31</td>\n",
              "    </tr>\n",
              "    <tr>\n",
              "      <th>3</th>\n",
              "      <td>0.29</td>\n",
              "      <td>Premium</td>\n",
              "      <td>I</td>\n",
              "      <td>VS2</td>\n",
              "      <td>62.4</td>\n",
              "      <td>58.0</td>\n",
              "      <td>334</td>\n",
              "      <td>4.20</td>\n",
              "      <td>4.23</td>\n",
              "      <td>2.63</td>\n",
              "    </tr>\n",
              "    <tr>\n",
              "      <th>4</th>\n",
              "      <td>0.31</td>\n",
              "      <td>Good</td>\n",
              "      <td>J</td>\n",
              "      <td>SI2</td>\n",
              "      <td>63.3</td>\n",
              "      <td>58.0</td>\n",
              "      <td>335</td>\n",
              "      <td>4.34</td>\n",
              "      <td>4.35</td>\n",
              "      <td>2.75</td>\n",
              "    </tr>\n",
              "    <tr>\n",
              "      <th>5</th>\n",
              "      <td>0.24</td>\n",
              "      <td>Very Good</td>\n",
              "      <td>J</td>\n",
              "      <td>VVS2</td>\n",
              "      <td>62.8</td>\n",
              "      <td>57.0</td>\n",
              "      <td>336</td>\n",
              "      <td>3.94</td>\n",
              "      <td>3.96</td>\n",
              "      <td>2.48</td>\n",
              "    </tr>\n",
              "    <tr>\n",
              "      <th>6</th>\n",
              "      <td>0.24</td>\n",
              "      <td>Very Good</td>\n",
              "      <td>I</td>\n",
              "      <td>VVS1</td>\n",
              "      <td>62.3</td>\n",
              "      <td>57.0</td>\n",
              "      <td>336</td>\n",
              "      <td>3.95</td>\n",
              "      <td>3.98</td>\n",
              "      <td>2.47</td>\n",
              "    </tr>\n",
              "    <tr>\n",
              "      <th>7</th>\n",
              "      <td>0.26</td>\n",
              "      <td>Very Good</td>\n",
              "      <td>H</td>\n",
              "      <td>SI1</td>\n",
              "      <td>61.9</td>\n",
              "      <td>55.0</td>\n",
              "      <td>337</td>\n",
              "      <td>4.07</td>\n",
              "      <td>4.11</td>\n",
              "      <td>2.53</td>\n",
              "    </tr>\n",
              "    <tr>\n",
              "      <th>8</th>\n",
              "      <td>0.22</td>\n",
              "      <td>Fair</td>\n",
              "      <td>E</td>\n",
              "      <td>VS2</td>\n",
              "      <td>65.1</td>\n",
              "      <td>61.0</td>\n",
              "      <td>337</td>\n",
              "      <td>3.87</td>\n",
              "      <td>3.78</td>\n",
              "      <td>2.49</td>\n",
              "    </tr>\n",
              "    <tr>\n",
              "      <th>9</th>\n",
              "      <td>0.23</td>\n",
              "      <td>Very Good</td>\n",
              "      <td>H</td>\n",
              "      <td>VS1</td>\n",
              "      <td>59.4</td>\n",
              "      <td>61.0</td>\n",
              "      <td>338</td>\n",
              "      <td>4.00</td>\n",
              "      <td>4.05</td>\n",
              "      <td>2.39</td>\n",
              "    </tr>\n",
              "  </tbody>\n",
              "</table>\n",
              "</div>"
            ],
            "text/plain": [
              "   carat        cut color clarity  depth  table  price     x     y     z\n",
              "0   0.23      Ideal     E     SI2   61.5   55.0    326  3.95  3.98  2.43\n",
              "1   0.21    Premium     E     SI1   59.8   61.0    326  3.89  3.84  2.31\n",
              "2   0.23       Good     E     VS1   56.9   65.0    327  4.05  4.07  2.31\n",
              "3   0.29    Premium     I     VS2   62.4   58.0    334  4.20  4.23  2.63\n",
              "4   0.31       Good     J     SI2   63.3   58.0    335  4.34  4.35  2.75\n",
              "5   0.24  Very Good     J    VVS2   62.8   57.0    336  3.94  3.96  2.48\n",
              "6   0.24  Very Good     I    VVS1   62.3   57.0    336  3.95  3.98  2.47\n",
              "7   0.26  Very Good     H     SI1   61.9   55.0    337  4.07  4.11  2.53\n",
              "8   0.22       Fair     E     VS2   65.1   61.0    337  3.87  3.78  2.49\n",
              "9   0.23  Very Good     H     VS1   59.4   61.0    338  4.00  4.05  2.39"
            ]
          },
          "metadata": {
            "tags": []
          },
          "execution_count": 138
        }
      ]
    },
    {
      "cell_type": "code",
      "metadata": {
        "id": "BlAA3sKDIaDZ",
        "outputId": "bc1db2ae-1da3-4f94-ce16-dd9289bb2ea7",
        "colab": {
          "base_uri": "https://localhost:8080/",
          "height": 284
        }
      },
      "source": [
        "#Describe csv file\r\n",
        "diamond.describe()"
      ],
      "execution_count": 139,
      "outputs": [
        {
          "output_type": "execute_result",
          "data": {
            "text/html": [
              "<div>\n",
              "<style scoped>\n",
              "    .dataframe tbody tr th:only-of-type {\n",
              "        vertical-align: middle;\n",
              "    }\n",
              "\n",
              "    .dataframe tbody tr th {\n",
              "        vertical-align: top;\n",
              "    }\n",
              "\n",
              "    .dataframe thead th {\n",
              "        text-align: right;\n",
              "    }\n",
              "</style>\n",
              "<table border=\"1\" class=\"dataframe\">\n",
              "  <thead>\n",
              "    <tr style=\"text-align: right;\">\n",
              "      <th></th>\n",
              "      <th>carat</th>\n",
              "      <th>depth</th>\n",
              "      <th>table</th>\n",
              "      <th>price</th>\n",
              "      <th>x</th>\n",
              "      <th>y</th>\n",
              "      <th>z</th>\n",
              "    </tr>\n",
              "  </thead>\n",
              "  <tbody>\n",
              "    <tr>\n",
              "      <th>count</th>\n",
              "      <td>53940.000000</td>\n",
              "      <td>53940.000000</td>\n",
              "      <td>53940.000000</td>\n",
              "      <td>53940.000000</td>\n",
              "      <td>53940.000000</td>\n",
              "      <td>53940.000000</td>\n",
              "      <td>53940.000000</td>\n",
              "    </tr>\n",
              "    <tr>\n",
              "      <th>mean</th>\n",
              "      <td>0.797940</td>\n",
              "      <td>61.749405</td>\n",
              "      <td>57.457184</td>\n",
              "      <td>3932.799722</td>\n",
              "      <td>5.731157</td>\n",
              "      <td>5.734526</td>\n",
              "      <td>3.538734</td>\n",
              "    </tr>\n",
              "    <tr>\n",
              "      <th>std</th>\n",
              "      <td>0.474011</td>\n",
              "      <td>1.432621</td>\n",
              "      <td>2.234491</td>\n",
              "      <td>3989.439738</td>\n",
              "      <td>1.121761</td>\n",
              "      <td>1.142135</td>\n",
              "      <td>0.705699</td>\n",
              "    </tr>\n",
              "    <tr>\n",
              "      <th>min</th>\n",
              "      <td>0.200000</td>\n",
              "      <td>43.000000</td>\n",
              "      <td>43.000000</td>\n",
              "      <td>326.000000</td>\n",
              "      <td>0.000000</td>\n",
              "      <td>0.000000</td>\n",
              "      <td>0.000000</td>\n",
              "    </tr>\n",
              "    <tr>\n",
              "      <th>25%</th>\n",
              "      <td>0.400000</td>\n",
              "      <td>61.000000</td>\n",
              "      <td>56.000000</td>\n",
              "      <td>950.000000</td>\n",
              "      <td>4.710000</td>\n",
              "      <td>4.720000</td>\n",
              "      <td>2.910000</td>\n",
              "    </tr>\n",
              "    <tr>\n",
              "      <th>50%</th>\n",
              "      <td>0.700000</td>\n",
              "      <td>61.800000</td>\n",
              "      <td>57.000000</td>\n",
              "      <td>2401.000000</td>\n",
              "      <td>5.700000</td>\n",
              "      <td>5.710000</td>\n",
              "      <td>3.530000</td>\n",
              "    </tr>\n",
              "    <tr>\n",
              "      <th>75%</th>\n",
              "      <td>1.040000</td>\n",
              "      <td>62.500000</td>\n",
              "      <td>59.000000</td>\n",
              "      <td>5324.250000</td>\n",
              "      <td>6.540000</td>\n",
              "      <td>6.540000</td>\n",
              "      <td>4.040000</td>\n",
              "    </tr>\n",
              "    <tr>\n",
              "      <th>max</th>\n",
              "      <td>5.010000</td>\n",
              "      <td>79.000000</td>\n",
              "      <td>95.000000</td>\n",
              "      <td>18823.000000</td>\n",
              "      <td>10.740000</td>\n",
              "      <td>58.900000</td>\n",
              "      <td>31.800000</td>\n",
              "    </tr>\n",
              "  </tbody>\n",
              "</table>\n",
              "</div>"
            ],
            "text/plain": [
              "              carat         depth  ...             y             z\n",
              "count  53940.000000  53940.000000  ...  53940.000000  53940.000000\n",
              "mean       0.797940     61.749405  ...      5.734526      3.538734\n",
              "std        0.474011      1.432621  ...      1.142135      0.705699\n",
              "min        0.200000     43.000000  ...      0.000000      0.000000\n",
              "25%        0.400000     61.000000  ...      4.720000      2.910000\n",
              "50%        0.700000     61.800000  ...      5.710000      3.530000\n",
              "75%        1.040000     62.500000  ...      6.540000      4.040000\n",
              "max        5.010000     79.000000  ...     58.900000     31.800000\n",
              "\n",
              "[8 rows x 7 columns]"
            ]
          },
          "metadata": {
            "tags": []
          },
          "execution_count": 139
        }
      ]
    },
    {
      "cell_type": "code",
      "metadata": {
        "id": "eXXU-tF3_FSL",
        "colab": {
          "base_uri": "https://localhost:8080/"
        },
        "outputId": "cf128798-983e-4d96-fa46-fa4b4c3447df"
      },
      "source": [
        "# check types of data in columns\r\n",
        "diamond.dtypes"
      ],
      "execution_count": 140,
      "outputs": [
        {
          "output_type": "execute_result",
          "data": {
            "text/plain": [
              "carat      float64\n",
              "cut         object\n",
              "color       object\n",
              "clarity     object\n",
              "depth      float64\n",
              "table      float64\n",
              "price        int64\n",
              "x          float64\n",
              "y          float64\n",
              "z          float64\n",
              "dtype: object"
            ]
          },
          "metadata": {
            "tags": []
          },
          "execution_count": 140
        }
      ]
    },
    {
      "cell_type": "code",
      "metadata": {
        "id": "DHEMDilfLwvS",
        "outputId": "dc7bbf6b-7dd3-4f8b-aeb1-f92eb2b4b5a7",
        "colab": {
          "base_uri": "https://localhost:8080/"
        }
      },
      "source": [
        "# Looking for missing data\r\n",
        "\r\n",
        "# Convert '?' to NaN\r\n",
        "diamond[diamond==0] = np.nan\r\n",
        "\r\n",
        "# Print the number of NaNs\r\n",
        "print(diamond.isnull().sum())"
      ],
      "execution_count": 141,
      "outputs": [
        {
          "output_type": "stream",
          "text": [
            "carat       0\n",
            "cut         0\n",
            "color       0\n",
            "clarity     0\n",
            "depth       0\n",
            "table       0\n",
            "price       0\n",
            "x           8\n",
            "y           7\n",
            "z          20\n",
            "dtype: int64\n"
          ],
          "name": "stdout"
        }
      ]
    },
    {
      "cell_type": "code",
      "metadata": {
        "id": "VAhoQinyMNK9",
        "outputId": "afba588d-93ae-4325-da25-da81babd1eff",
        "colab": {
          "base_uri": "https://localhost:8080/"
        }
      },
      "source": [
        "# Drop the rows with missing values from diamond.csv\r\n",
        "diamond = diamond.dropna()\r\n",
        "diamond.shape"
      ],
      "execution_count": 142,
      "outputs": [
        {
          "output_type": "execute_result",
          "data": {
            "text/plain": [
              "(53920, 10)"
            ]
          },
          "metadata": {
            "tags": []
          },
          "execution_count": 142
        }
      ]
    },
    {
      "cell_type": "code",
      "metadata": {
        "id": "fAxL04_96jDD"
      },
      "source": [
        "# Determine a problem type\r\n",
        "diamond.price.hist(bins=30, alpha=0.8)\r\n",
        "plt.show()"
      ],
      "execution_count": null,
      "outputs": []
    },
    {
      "cell_type": "code",
      "metadata": {
        "id": "Uk52OcF5SMz2"
      },
      "source": [
        "plt.style.use('ggplot')\r\n",
        "# EDA for categorical features \r\n",
        "names = ['color', 'cut', 'clarity']\r\n",
        "\r\n",
        "for i in range(0,3):\r\n",
        "  \r\n",
        "  parameters = diamond.groupby(names[i], as_index=False)['price'].median()\r\n",
        "  fig = plt.figure(figsize=(5, 4))\r\n",
        "  plt.bar(parameters[names[i]], parameters.price, width=0.5, alpha=0.8)\r\n",
        "  plt.xlabel(names[i])\r\n",
        "  i += 1\r\n",
        "  plt.ylabel('Median price')\r\n",
        "plt.show()\r\n"
      ],
      "execution_count": null,
      "outputs": []
    },
    {
      "cell_type": "code",
      "metadata": {
        "id": "Oc-t3mBsfAkY"
      },
      "source": [
        "#fig2, axes = plt.subplots(nrows=4, ncols=7)\r\n",
        "#for i, ax in enumerate(axes.flatten()):\r\n",
        "    #df[df.columns[i]].plot(color=colors[i], ax=ax)\r\n",
        "    #ax.set_title(df.columns[i])"
      ],
      "execution_count": 145,
      "outputs": []
    },
    {
      "cell_type": "code",
      "metadata": {
        "id": "bMBbFbLoNRGj"
      },
      "source": [
        "# EDA for numerical features\r\n",
        "\r\n",
        "name = ['carat', 'depth', 'table', 'x', 'y', 'z']\r\n",
        "\r\n",
        "for i in range(0,6):\r\n",
        "  num_parameters = diamond.groupby(name[i], as_index=False)['price'].mean()\r\n",
        "  plt.scatter(x=num_parameters[name[i]], y=num_parameters['price'], alpha=0.5)\r\n",
        "\r\n",
        "  plt.xlabel(name[i])\r\n",
        "  plt.ylabel('Mean price')\r\n",
        "  if i > 3:\r\n",
        "    plt.xlim(0, 10)\r\n",
        "  plt.show()"
      ],
      "execution_count": null,
      "outputs": []
    },
    {
      "cell_type": "code",
      "metadata": {
        "id": "eYT70Vhh_Vob",
        "colab": {
          "base_uri": "https://localhost:8080/"
        },
        "outputId": "c12f44d4-0e31-4831-ba46-8764dcd555aa"
      },
      "source": [
        "#Feature Engineering\r\n",
        "\r\n",
        "#One_Hot encoding\r\n",
        "\r\n",
        "ohe_cut = pd.get_dummies(diamond['cut'], prefix='cut')\r\n",
        "ohe_color = pd.get_dummies(diamond['color'], prefix='color')\r\n",
        "ohe_clarity = pd.get_dummies(diamond['clarity'], prefix='clarity')\r\n",
        "\r\n",
        "diamond = pd.concat([diamond, ohe_cut], axis=1)\r\n",
        "diamond = pd.concat([diamond, ohe_color], axis=1)\r\n",
        "diamond = pd.concat([diamond, ohe_clarity], axis=1)\r\n",
        "\r\n",
        "#drop colums with type 'object'\r\n",
        "diamond = diamond.select_dtypes(exclude=['object'])\r\n",
        "diamond.shape"
      ],
      "execution_count": 147,
      "outputs": [
        {
          "output_type": "execute_result",
          "data": {
            "text/plain": [
              "(53920, 27)"
            ]
          },
          "metadata": {
            "tags": []
          },
          "execution_count": 147
        }
      ]
    },
    {
      "cell_type": "code",
      "metadata": {
        "id": "10azz2r1hdLN"
      },
      "source": [
        "X = diamond.drop('price', axis=1)\r\n",
        "y = diamond['price']\r\n",
        "X_train, X_test, y_train, y_test = train_test_split(X, y, test_size = 0.2)"
      ],
      "execution_count": 148,
      "outputs": []
    },
    {
      "cell_type": "markdown",
      "metadata": {
        "id": "CXeubj7BoQ4C"
      },
      "source": [
        "SIMPLE REGRESSION MODEL"
      ]
    },
    {
      "cell_type": "code",
      "metadata": {
        "id": "S-xSgYynxNHO",
        "colab": {
          "base_uri": "https://localhost:8080/"
        },
        "outputId": "ee56a900-d03a-4e32-e5fa-fbf71ce5edc7"
      },
      "source": [
        "#Random Forest\r\n",
        "rf = RandomForestRegressor()\r\n",
        "rf.fit(X_train, y_train)\r\n",
        "y_predicted = rf.predict(X_test)\r\n",
        "rmse_rf = np.sqrt(MSE(y_test, y_predicted))\r\n",
        "print(\"Root Mean Squared Error: {}\".format(rmse_rf))\r\n",
        "print(\"Score train = \",rf.score(X_train, y_train))\r\n",
        "print(\"Score test  = \",rf.score(X_test, y_test))"
      ],
      "execution_count": 162,
      "outputs": [
        {
          "output_type": "stream",
          "text": [
            "Root Mean Squared Error: 549.7580169123346\n",
            "Score train =  0.9973491859324943\n",
            "Score test  =  0.9808473129555247\n"
          ],
          "name": "stdout"
        }
      ]
    },
    {
      "cell_type": "code",
      "metadata": {
        "id": "fE7nFS2yJSRq",
        "colab": {
          "base_uri": "https://localhost:8080/"
        },
        "outputId": "bad74a52-bedf-4cdc-c412-9a0125889798"
      },
      "source": [
        "# Linear Regression\r\n",
        "\r\n",
        "lr = LinearRegression(normalize=True)\r\n",
        "\r\n",
        "lr.fit(X_train, y_train)\r\n",
        "y_predicted = lr.predict(X_test)\r\n",
        "rmse_lr = np.sqrt(MSE(y_test, y_predicted))\r\n",
        "print(\"Root Mean Squared Error: {}\".format(rmse_lr))\r\n",
        "print(\"Score train = \",lr.score(X_train, y_train))\r\n",
        "print(\"Score test  = \",lr.score(X_test, y_test))"
      ],
      "execution_count": 161,
      "outputs": [
        {
          "output_type": "stream",
          "text": [
            "Root Mean Squared Error: 1141.1938472438574\n",
            "Score train =  0.9207462308975464\n",
            "Score test  =  0.9174712223274674\n"
          ],
          "name": "stdout"
        }
      ]
    },
    {
      "cell_type": "code",
      "metadata": {
        "id": "fahh6Dl5lrgp",
        "outputId": "ba29dcd0-ec71-44bb-815e-22ef6b334ec6",
        "colab": {
          "base_uri": "https://localhost:8080/"
        }
      },
      "source": [
        "#Lasso\r\n",
        "\r\n",
        "lasso = Lasso(normalize=True)\r\n",
        "\r\n",
        "lasso.fit(X_train, y_train)\r\n",
        "y_predicted = lasso.predict(X_test)\r\n",
        "rmse_lasso = np.sqrt(MSE(y_test, y_predicted))\r\n",
        "print(\"Root Mean Squared Error: {}\".format(rmse_lasso))\r\n",
        "print(\"Score train = \",lasso.score(X_train, y_train))\r\n",
        "print(\"Score test  = \",lasso.score(X_test, y_test))"
      ],
      "execution_count": 164,
      "outputs": [
        {
          "output_type": "stream",
          "text": [
            "Root Mean Squared Error: 1418.5891703558461\n",
            "Score train =  0.8762458518809617\n",
            "Score test  =  0.8724736733894495\n"
          ],
          "name": "stdout"
        }
      ]
    },
    {
      "cell_type": "code",
      "metadata": {
        "id": "c7TpGiSLmSvt"
      },
      "source": [
        ""
      ],
      "execution_count": null,
      "outputs": []
    }
  ]
}