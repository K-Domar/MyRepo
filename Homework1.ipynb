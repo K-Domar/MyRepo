{
  "nbformat": 4,
  "nbformat_minor": 0,
  "metadata": {
    "colab": {
      "name": "Untitled0.ipynb",
      "provenance": [],
      "authorship_tag": "ABX9TyPtlTmsYoijziKnCFTq6KFv",
      "include_colab_link": true
    },
    "kernelspec": {
      "name": "python3",
      "display_name": "Python 3"
    }
  },
  "cells": [
    {
      "cell_type": "markdown",
      "metadata": {
        "id": "view-in-github",
        "colab_type": "text"
      },
      "source": [
        "<a href=\"https://colab.research.google.com/github/K-Domar/MyRepo/blob/main/Homework1.ipynb\" target=\"_parent\"><img src=\"https://colab.research.google.com/assets/colab-badge.svg\" alt=\"Open In Colab\"/></a>"
      ]
    },
    {
      "cell_type": "code",
      "metadata": {
        "id": "qwZtvMUJGdoo",
        "outputId": "5db7535f-ec7a-4719-feaf-12579c79406b",
        "colab": {
          "base_uri": "https://localhost:8080/",
          "height": 34
        }
      },
      "source": [
        "# password generator\n",
        "import numpy as np\n",
        "alfabet = [\"a\",\"b\",\"c\", \"d\", \"e\", \"f\", \"g\", \"h\", \"i\", \"j\", \"k\", \"l\", \"m\", \"n\", \"o\", \"p\", \"q\" \"r\", \"s\", \"t\", \"u\", \"v\", \"w\", \"x\", \"y\", \"z\"]\n",
        "x = np.random.randint(5,10)\n",
        "dane = np.random.randint(1,25, size=x)\n",
        "\n",
        "op = 1\n",
        "password1 = alfabet[dane[0]]\n",
        "\n",
        "while op < x:\n",
        "  password1 = password1 + alfabet[dane[op]] \n",
        "  op = op + 1\n",
        "\n",
        "print(password1)"
      ],
      "execution_count": 125,
      "outputs": [
        {
          "output_type": "stream",
          "text": [
            "iljfodwf\n"
          ],
          "name": "stdout"
        }
      ]
    }
  ]
}